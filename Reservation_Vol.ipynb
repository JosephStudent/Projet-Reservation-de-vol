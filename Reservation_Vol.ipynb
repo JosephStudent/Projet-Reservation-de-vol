{
 "cells": [
  {
   "cell_type": "markdown",
   "metadata": {},
   "source": [
    "# Simulation Reservation de vol"
   ]
  },
  {
   "cell_type": "markdown",
   "metadata": {},
   "source": [
    "Objectif :\n",
    "Créer une simulation d'un système de réservation de vols où des utilisateurs peuvent réserver\n",
    "ou annuler des sièges sur différents vols, avec la gestion de la disponibilité des sièges et la\n",
    "persistance des informations dans un fichier."
   ]
  },
  {
   "cell_type": "markdown",
   "metadata": {},
   "source": [
    "## Etape 1 : Creaton des Classe\n",
    "Nous allons définir les classes Vol et Utilisateur \n",
    "ClasseVol : représente les informations d'un vol (numéro, départ, destination, nombre de sièges).\n",
    "ClasseUtilisateur : représente les informations d'un utilisateur (nom, âge, réservations)."
   ]
  },
  {
   "cell_type": "code",
   "execution_count": 1,
   "metadata": {},
   "outputs": [],
   "source": [
    "# Classe Vol\n",
    "class Vol:\n",
    "    def __init__(self, numero_vol, depart, destination, nb_sieges):\n",
    "        self.numero_vol = numero_vol\n",
    "        self.depart = depart\n",
    "        self.destination = destination\n",
    "        self.nb_sieges = nb_sieges\n",
    "        self.sieges_disponibles = nb_sieges  # Initialement, tous les sièges sont disponibles\n",
    "    \n",
    "    def reserver_siege(self):\n",
    "        \"\"\"Réserve un siège si disponible.\"\"\"\n",
    "        if self.sieges_disponibles > 0:\n",
    "            self.sieges_disponibles -= 1\n",
    "            return True\n",
    "        return False\n",
    "    \n",
    "    def annuler_reservation(self):\n",
    "        \"\"\"Annule une réservation en libérant un siège.\"\"\"\n",
    "        if self.sieges_disponibles < self.nb_sieges:\n",
    "            self.sieges_disponibles += 1\n",
    "            return True\n",
    "        return False\n",
    "\n",
    "    def __str__(self):\n",
    "        return f\"Vol {self.numero_vol}: {self.depart} -> {self.destination}, Sièges disponibles: {self.sieges_disponibles}/{self.nb_sieges}\"\n",
    "\n",
    "# Classe Utilisateur\n",
    "class Utilisateur:\n",
    "    def __init__(self, nom, age):\n",
    "        self.nom = nom\n",
    "        self.age = age\n",
    "        self.reservations = []  # Liste pour stocker les réservations de vols\n",
    "    \n",
    "    def ajouter_reservation(self, vol):\n",
    "        \"\"\"Ajoute une réservation pour un vol donné.\"\"\"\n",
    "        if vol.reserver_siege():\n",
    "            self.reservations.append(vol)\n",
    "            return True\n",
    "        return False\n",
    "    \n",
    "    def annuler_reservation(self, vol):\n",
    "        \"\"\"Annule une réservation pour un vol donné.\"\"\"\n",
    "        if vol in self.reservations:\n",
    "            if vol.annuler_reservation():\n",
    "                self.reservations.remove(vol)\n",
    "                return True\n",
    "        return False\n",
    "\n",
    "    def __str__(self):\n",
    "        return f\"Utilisateur {self.nom}, Âge: {self.age}, Réservations: {[str(vol) for vol in self.reservations]}\"\n"
   ]
  }
 ],
 "metadata": {
  "kernelspec": {
   "display_name": "Python 3",
   "language": "python",
   "name": "python3"
  },
  "language_info": {
   "codemirror_mode": {
    "name": "ipython",
    "version": 3
   },
   "file_extension": ".py",
   "mimetype": "text/x-python",
   "name": "python",
   "nbconvert_exporter": "python",
   "pygments_lexer": "ipython3",
   "version": "3.12.7"
  }
 },
 "nbformat": 4,
 "nbformat_minor": 2
}
