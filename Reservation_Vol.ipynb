{
 "cells": [
  {
   "cell_type": "markdown",
   "metadata": {},
   "source": [
    "# Simulation Reservation de vol"
   ]
  },
  {
   "cell_type": "markdown",
   "metadata": {},
   "source": [
    "Objectif :\n",
    "Créer une simulation d'un système de réservation de vols où des utilisateurs peuvent réserver\n",
    "ou annuler des sièges sur différents vols, avec la gestion de la disponibilité des sièges et la\n",
    "persistance des informations dans un fichier."
   ]
  },
  {
   "cell_type": "markdown",
   "metadata": {},
   "source": [
    "## Etape 1 : Creaton des Classe\n",
    "Nous allons définir les classes Vol et Utilisateur \n",
    "ClasseVol : représente les informations d'un vol (numéro, départ, destination, nombre de sièges).\n",
    "ClasseUtilisateur : représente les informations d'un utilisateur (nom, âge, réservations)."
   ]
  },
  {
   "cell_type": "code",
   "execution_count": 2,
   "metadata": {},
   "outputs": [],
   "source": [
    "# Classe Vol\n",
    "class Vol:\n",
    "    def __init__(self, numero_vol, depart, destination, nb_sieges):\n",
    "        self.numero_vol = numero_vol\n",
    "        self.depart = depart\n",
    "        self.destination = destination\n",
    "        self.nb_sieges = nb_sieges\n",
    "        self.sieges_disponibles = nb_sieges  # Initialement, tous les sièges sont disponibles\n",
    "    \n",
    "    def reserver_siege(self):\n",
    "        \"\"\"Réserve un siège si disponible.\"\"\"\n",
    "        if self.sieges_disponibles > 0:\n",
    "            self.sieges_disponibles -= 1\n",
    "            return True\n",
    "        return False\n",
    "    \n",
    "    def annuler_reservation(self):\n",
    "        \"\"\"Annule une réservation en libérant un siège.\"\"\"\n",
    "        if self.sieges_disponibles < self.nb_sieges:\n",
    "            self.sieges_disponibles += 1\n",
    "            return True\n",
    "        return False\n",
    "\n",
    "    def __str__(self):\n",
    "        return f\"Vol {self.numero_vol}: {self.depart} -> {self.destination}, Sièges disponibles: {self.sieges_disponibles}/{self.nb_sieges}\"\n",
    "\n",
    "# Classe Utilisateur\n",
    "class Utilisateur:\n",
    "    def __init__(self, nom, age):\n",
    "        self.nom = nom\n",
    "        self.age = age\n",
    "        self.reservations = []  # Liste pour stocker les réservations de vols\n",
    "    \n",
    "    def ajouter_reservation(self, vol):\n",
    "        \"\"\"Ajoute une réservation pour un vol donné.\"\"\"\n",
    "        if vol.reserver_siege():\n",
    "            self.reservations.append(vol)\n",
    "            return True\n",
    "        return False\n",
    "    \n",
    "    def annuler_reservation(self, vol):\n",
    "        \"\"\"Annule une réservation pour un vol donné.\"\"\"\n",
    "        if vol in self.reservations:\n",
    "            if vol.annuler_reservation():\n",
    "                self.reservations.remove(vol)\n",
    "                return True\n",
    "        return False\n",
    "\n",
    "    def __str__(self):\n",
    "        return f\"Utilisateur {self.nom}, Âge: {self.age}, Réservations: {[str(vol) for vol in self.reservations]}\"\n"
   ]
  },
  {
   "cell_type": "markdown",
   "metadata": {},
   "source": [
    "Test pour verifier que cela fonctionne"
   ]
  },
  {
   "cell_type": "code",
   "execution_count": 3,
   "metadata": {},
   "outputs": [
    {
     "name": "stdout",
     "output_type": "stream",
     "text": [
      "Vol AF123: Paris -> New York, Sièges disponibles: 150/150\n",
      "Utilisateur Alison, Âge: 33, Réservations: []\n",
      "Réservation réussie pour Alison sur le vol AF123\n",
      "Vol AF123: Paris -> New York, Sièges disponibles: 149/150\n",
      "Utilisateur Alison, Âge: 33, Réservations: ['Vol AF123: Paris -> New York, Sièges disponibles: 149/150']\n",
      "Annulation réussie pour Alison sur le vol AF123\n",
      "Vol AF123: Paris -> New York, Sièges disponibles: 150/150\n",
      "Utilisateur Alison, Âge: 33, Réservations: []\n"
     ]
    }
   ],
   "source": [
    "# Création d'un vol\n",
    "vol1 = Vol(numero_vol=\"AF123\", depart=\"Paris\", destination=\"New York\", nb_sieges=150)\n",
    "print(vol1)  # Vérifier les informations de vol\n",
    "\n",
    "# Création d'un utilisateur\n",
    "utilisateur1 = Utilisateur(nom=\"Alison\", age=33)\n",
    "print(utilisateur1)  # Vérifier les informations de l'utilisateur\n",
    "\n",
    "# Alison réserve un siège sur le vol AF123\n",
    "if utilisateur1.ajouter_reservation(vol1):\n",
    "    print(f\"Réservation réussie pour {utilisateur1.nom} sur le vol {vol1.numero_vol}\")\n",
    "else:\n",
    "    print(f\"Échec de la réservation pour {utilisateur1.nom} sur le vol {vol1.numero_vol}\")\n",
    "\n",
    "# Afficher l'état actuel du vol et de l'utilisateur après la réservation\n",
    "print(vol1)\n",
    "print(utilisateur1)\n",
    "\n",
    "# Alison annule sa réservation sur le vol AF123\n",
    "if utilisateur1.annuler_reservation(vol1):\n",
    "    print(f\"Annulation réussie pour {utilisateur1.nom} sur le vol {vol1.numero_vol}\")\n",
    "else:\n",
    "    print(f\"Échec de l'annulation pour {utilisateur1.nom} sur le vol {vol1.numero_vol}\")\n",
    "\n",
    "# Afficher l'état final du vol et de l'utilisateur après l'annulation\n",
    "print(vol1)\n",
    "print(utilisateur1)\n"
   ]
  },
  {
   "cell_type": "markdown",
   "metadata": {},
   "source": [
    "Explication du test\n",
    "Création d'un vol : AF123avec 150 sièges disponibles, entre Paris et New York.\n",
    "Création d'un utilisateur : Alison, 33 ans, sans réservation initiale.\n",
    "Réservation d'un siège : Alison tente de réserver un siège sur le vol AF123.\n",
    "Affichage des informations : Après la réservation, sur affiche l'état du vol et les réservations de Alison.\n",
    "Annulation de la réservation : Alisonannuler sa réservation.\n",
    "Affichage final : Vérifie que le siège est bien libéré et les réservations mises à jour."
   ]
  }
 ],
 "metadata": {
  "kernelspec": {
   "display_name": "Python 3",
   "language": "python",
   "name": "python3"
  },
  "language_info": {
   "codemirror_mode": {
    "name": "ipython",
    "version": 3
   },
   "file_extension": ".py",
   "mimetype": "text/x-python",
   "name": "python",
   "nbconvert_exporter": "python",
   "pygments_lexer": "ipython3",
   "version": "3.12.7"
  }
 },
 "nbformat": 4,
 "nbformat_minor": 2
}
