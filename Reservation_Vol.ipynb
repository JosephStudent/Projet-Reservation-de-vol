{
 "cells": [
  {
   "cell_type": "markdown",
   "metadata": {},
   "source": [
    "# Simulation Reservation de vol"
   ]
  },
  {
   "cell_type": "markdown",
   "metadata": {},
   "source": [
    "Objectif :\n",
    "Créer une simulation d'un système de réservation de vols où des utilisateurs peuvent réserver\n",
    "ou annuler des sièges sur différents vols, avec la gestion de la disponibilité des sièges et la\n",
    "persistance des informations dans un fichier."
   ]
  },
  {
   "cell_type": "markdown",
   "metadata": {},
   "source": [
    "## Etape 1 : Creaton des Classe\n",
    "Nous allons définir les classes Vol et Utilisateur \n",
    "ClasseVol : représente les informations d'un vol (numéro, départ, destination, nombre de sièges).\n",
    "ClasseUtilisateur : représente les informations d'un utilisateur (nom, âge, réservations)."
   ]
  },
  {
   "cell_type": "code",
   "execution_count": 2,
   "metadata": {},
   "outputs": [],
   "source": [
    "# Classe Vol\n",
    "class Vol:\n",
    "    def __init__(self, numero_vol, depart, destination, nb_sieges):\n",
    "        self.numero_vol = numero_vol\n",
    "        self.depart = depart\n",
    "        self.destination = destination\n",
    "        self.nb_sieges = nb_sieges\n",
    "        self.sieges_disponibles = nb_sieges  # Initialement, tous les sièges sont disponibles\n",
    "    \n",
    "    def reserver_siege(self):\n",
    "        \"\"\"Réserve un siège si disponible.\"\"\"\n",
    "        if self.sieges_disponibles > 0:\n",
    "            self.sieges_disponibles -= 1\n",
    "            return True\n",
    "        return False\n",
    "    \n",
    "    def annuler_reservation(self):\n",
    "        \"\"\"Annule une réservation en libérant un siège.\"\"\"\n",
    "        if self.sieges_disponibles < self.nb_sieges:\n",
    "            self.sieges_disponibles += 1\n",
    "            return True\n",
    "        return False\n",
    "\n",
    "    def __str__(self):\n",
    "        return f\"Vol {self.numero_vol}: {self.depart} -> {self.destination}, Sièges disponibles: {self.sieges_disponibles}/{self.nb_sieges}\"\n",
    "\n",
    "# Classe Utilisateur\n",
    "class Utilisateur:\n",
    "    def __init__(self, nom, age):\n",
    "        self.nom = nom\n",
    "        self.age = age\n",
    "        self.reservations = []  # Liste pour stocker les réservations de vols\n",
    "    \n",
    "    def ajouter_reservation(self, vol):\n",
    "        \"\"\"Ajoute une réservation pour un vol donné.\"\"\"\n",
    "        if vol.reserver_siege():\n",
    "            self.reservations.append(vol)\n",
    "            return True\n",
    "        return False\n",
    "    \n",
    "    def annuler_reservation(self, vol):\n",
    "        \"\"\"Annule une réservation pour un vol donné.\"\"\"\n",
    "        if vol in self.reservations:\n",
    "            if vol.annuler_reservation():\n",
    "                self.reservations.remove(vol)\n",
    "                return True\n",
    "        return False\n",
    "\n",
    "    def __str__(self):\n",
    "        return f\"Utilisateur {self.nom}, Âge: {self.age}, Réservations: {[str(vol) for vol in self.reservations]}\"\n"
   ]
  },
  {
   "cell_type": "markdown",
   "metadata": {},
   "source": [
    "Test pour verifier que cela fonctionne"
   ]
  },
  {
   "cell_type": "code",
   "execution_count": 3,
   "metadata": {},
   "outputs": [
    {
     "name": "stdout",
     "output_type": "stream",
     "text": [
      "Vol AF123: Paris -> New York, Sièges disponibles: 150/150\n",
      "Utilisateur Alison, Âge: 33, Réservations: []\n",
      "Réservation réussie pour Alison sur le vol AF123\n",
      "Vol AF123: Paris -> New York, Sièges disponibles: 149/150\n",
      "Utilisateur Alison, Âge: 33, Réservations: ['Vol AF123: Paris -> New York, Sièges disponibles: 149/150']\n",
      "Annulation réussie pour Alison sur le vol AF123\n",
      "Vol AF123: Paris -> New York, Sièges disponibles: 150/150\n",
      "Utilisateur Alison, Âge: 33, Réservations: []\n"
     ]
    }
   ],
   "source": [
    "# Création d'un vol\n",
    "vol1 = Vol(numero_vol=\"AF123\", depart=\"Paris\", destination=\"New York\", nb_sieges=150)\n",
    "print(vol1)  # Vérifier les informations de vol\n",
    "\n",
    "# Création d'un utilisateur\n",
    "utilisateur1 = Utilisateur(nom=\"Alison\", age=33)\n",
    "print(utilisateur1)  # Vérifier les informations de l'utilisateur\n",
    "\n",
    "# Alison réserve un siège sur le vol AF123\n",
    "if utilisateur1.ajouter_reservation(vol1):\n",
    "    print(f\"Réservation réussie pour {utilisateur1.nom} sur le vol {vol1.numero_vol}\")\n",
    "else:\n",
    "    print(f\"Échec de la réservation pour {utilisateur1.nom} sur le vol {vol1.numero_vol}\")\n",
    "\n",
    "# Afficher l'état actuel du vol et de l'utilisateur après la réservation\n",
    "print(vol1)\n",
    "print(utilisateur1)\n",
    "\n",
    "# Alison annule sa réservation sur le vol AF123\n",
    "if utilisateur1.annuler_reservation(vol1):\n",
    "    print(f\"Annulation réussie pour {utilisateur1.nom} sur le vol {vol1.numero_vol}\")\n",
    "else:\n",
    "    print(f\"Échec de l'annulation pour {utilisateur1.nom} sur le vol {vol1.numero_vol}\")\n",
    "\n",
    "# Afficher l'état final du vol et de l'utilisateur après l'annulation\n",
    "print(vol1)\n",
    "print(utilisateur1)\n"
   ]
  },
  {
   "cell_type": "markdown",
   "metadata": {},
   "source": [
    "Explication du test\n",
    "Création d'un vol : AF123avec 150 sièges disponibles, entre Paris et New York.\n",
    "Création d'un utilisateur : Alison, 33 ans, sans réservation initiale.\n",
    "Réservation d'un siège : Alison tente de réserver un siège sur le vol AF123.\n",
    "Affichage des informations : Après la réservation, sur affiche l'état du vol et les réservations de Alison.\n",
    "Annulation de la réservation : Alisonannuler sa réservation.\n",
    "Affichage final : Vérifie que le siège est bien libéré et les réservations mises à jour."
   ]
  },
  {
   "cell_type": "markdown",
   "metadata": {},
   "source": [
    "## Etape 2 : Ajout des fonctionalités\n",
    " Fonctionnalités pour :\n",
    "_ Vérification de la disponibilité des sièges : permettre aux utilisateurs de vérifier s'il reste des sièges disponibles avant de réserver.\n",
    "_ Amélioration des messages d'erreur : fournir un retour en cas d'échec de réservation ou d'annulation pour que l'utilisateur sache pourquoi l'action a échoué."
   ]
  },
  {
   "cell_type": "code",
   "execution_count": 4,
   "metadata": {},
   "outputs": [],
   "source": [
    "# Ajout de méthodes dans la classe Vol\n",
    "class Vol:\n",
    "    def __init__(self, numero_vol, depart, destination, nb_sieges):\n",
    "        self.numero_vol = numero_vol\n",
    "        self.depart = depart\n",
    "        self.destination = destination\n",
    "        self.nb_sieges = nb_sieges\n",
    "        self.sieges_disponibles = nb_sieges\n",
    "\n",
    "    def verifier_disponibilite(self):\n",
    "        \"\"\"Retourne True si des sièges sont disponibles, sinon False.\"\"\"\n",
    "        return self.sieges_disponibles > 0\n",
    "\n",
    "    def reserver_siege(self):\n",
    "        \"\"\"Réserve un siège si disponible, retourne un message de succès ou d'erreur.\"\"\"\n",
    "        if self.verifier_disponibilite():\n",
    "            self.sieges_disponibles -= 1\n",
    "            return \"Réservation réussie.\"\n",
    "        else:\n",
    "            return \"Aucun siège disponible pour ce vol.\"\n",
    "\n",
    "    def annuler_reservation(self):\n",
    "        \"\"\"Annule une réservation, retourne un message de succès ou d'erreur.\"\"\"\n",
    "        if self.sieges_disponibles < self.nb_sieges:\n",
    "            self.sieges_disponibles += 1\n",
    "            return \"Annulation réussie.\"\n",
    "        else:\n",
    "            return \"Aucune réservation à annuler pour ce vol.\"\n",
    "\n",
    "    def __str__(self):\n",
    "        return f\"Vol {self.numero_vol}: {self.depart} -> {self.destination}, Sièges disponibles: {self.sieges_disponibles}/{self.nb_sieges}\"\n",
    "\n",
    "# Mise à jour de la classe Utilisateur pour des retours clairs\n",
    "class Utilisateur:\n",
    "    def __init__(self, nom, age):\n",
    "        self.nom = nom\n",
    "        self.age = age\n",
    "        self.reservations = []\n",
    "\n",
    "    def ajouter_reservation(self, vol):\n",
    "        \"\"\"Ajoute une réservation avec retour de message clair.\"\"\"\n",
    "        resultat = vol.reserver_siege()\n",
    "        if resultat == \"Réservation réussie.\":\n",
    "            self.reservations.append(vol)\n",
    "            return f\"{self.nom} a réservé avec succès un siège sur le vol {vol.numero_vol}.\"\n",
    "        else:\n",
    "            return f\"Échec de la réservation pour {self.nom} : {resultat}\"\n",
    "\n",
    "    def annuler_reservation(self, vol):\n",
    "        \"\"\"Annule une réservation avec retour de message clair.\"\"\"\n",
    "        if vol in self.reservations:\n",
    "            resultat = vol.annuler_reservation()\n",
    "            if resultat == \"Annulation réussie.\":\n",
    "                self.reservations.remove(vol)\n",
    "                return f\"{self.nom} a annulé sa réservation sur le vol {vol.numero_vol}.\"\n",
    "            else:\n",
    "                return f\"Échec de l'annulation pour {self.nom} : {resultat}\"\n",
    "        else:\n",
    "            return f\"{self.nom} n'a pas de réservation sur le vol {vol.numero_vol}.\"\n",
    "\n",
    "    def __str__(self):\n",
    "        return f\"Utilisateur {self.nom}, Âge: {self.age}, Réservations: {[str(vol) for vol in self.reservations]}\"\n"
   ]
  },
  {
   "cell_type": "markdown",
   "metadata": {},
   "source": [
    "Test des nouvelles fonctionnalités"
   ]
  },
  {
   "cell_type": "code",
   "execution_count": 5,
   "metadata": {},
   "outputs": [
    {
     "name": "stdout",
     "output_type": "stream",
     "text": [
      "Disponibilité avant réservation : True\n",
      "John a réservé avec succès un siège sur le vol AF124.\n",
      "John a réservé avec succès un siège sur le vol AF124.\n",
      "Échec de la réservation pour John : Aucun siège disponible pour ce vol.\n",
      "John a annulé sa réservation sur le vol AF124.\n",
      "John a annulé sa réservation sur le vol AF124.\n"
     ]
    }
   ],
   "source": [
    "# Création d'un vol et d'un utilisateur\n",
    "vol2 = Vol(numero_vol=\"AF124\", depart=\"Paris\", destination=\"Tokyo\", nb_sieges=2)\n",
    "utilisateur2 = Utilisateur(nom=\"John\", age=28)\n",
    "\n",
    "# Vérification de la disponibilité avant de réserver\n",
    "print(f\"Disponibilité avant réservation : {vol2.verifier_disponibilite()}\")  # Doit afficher True\n",
    "\n",
    "# John réserve un siège\n",
    "print(utilisateur2.ajouter_reservation(vol2))  # Réservation réussie\n",
    "\n",
    "# Deuxième réservation par John\n",
    "print(utilisateur2.ajouter_reservation(vol2))  # Réservation réussie\n",
    "\n",
    "# Tentative de troisième réservation par John (devrait échouer car plus de sièges disponibles)\n",
    "print(utilisateur2.ajouter_reservation(vol2))  # Aucun siège disponible pour ce vol\n",
    "\n",
    "# John annule une réservation\n",
    "print(utilisateur2.annuler_reservation(vol2))  # Annulation réussie\n",
    "\n",
    "# Tentative d'annulation d'un vol non réservé\n",
    "print(utilisateur2.annuler_reservation(vol2))  # Aucune réservation à annuler\n"
   ]
  },
  {
   "cell_type": "markdown",
   "metadata": {},
   "source": [
    "Explication du test\n",
    "Vérification de la disponibilité : Avant de réserver, on vérifie si les sièges sont disponibles.\n",
    "Réservation de sièges : John réserve deux sièges, ce qui est le maximum disponible.\n",
    "Erreur de réservation : Une troisième tentative de réservation échoue, car il n'y a plus de sièges disponibles.\n",
    "Annulation de réservation : John annule une réservation, ce qui libère un siège.\n",
    "Erreur d'annulation : Une tentative d'annulation d'une réservation inexistante renvoie un message d'erreur approprié."
   ]
  },
  {
   "cell_type": "markdown",
   "metadata": {},
   "source": [
    "## Etape 3 : Phase 3 : Gestion de la Persistance des Données\n",
    "Nous allons implémenter la gestion de la persistance des données en sauvegardant les informations de vols et de réservations dans un fichier CSV. Cette persistance permettra de recharger les données à chaque démarrage du programme, entraînant ainsi la perte d'informations.\n",
    "\n",
    "Sauvegarde des données : écrire les informations des vols et des utilisateurs dans un fichier CSV.\n",
    "Chargement des données : lire les données depuis le fichier CSV au démarrage du programme.\n",
    "Pour cela, nous utiliserons le module csv de Python."
   ]
  },
  {
   "cell_type": "code",
   "execution_count": 6,
   "metadata": {},
   "outputs": [
    {
     "name": "stdout",
     "output_type": "stream",
     "text": [
      "Fichier vols.csv non trouvé. Création d'un nouveau fichier.\n",
      "<__main__.Vol object at 0x0000024F8CE0B740>\n",
      "<__main__.Vol object at 0x0000024F8CE08500>\n"
     ]
    }
   ],
   "source": [
    "import csv\n",
    "\n",
    "class Vol:\n",
    "    def __init__(self, numero_vol, depart, destination, nb_sieges, sieges_disponibles=None):\n",
    "        self.numero_vol = numero_vol\n",
    "        self.depart = depart\n",
    "        self.destination = destination\n",
    "        self.nb_sieges = nb_sieges\n",
    "        self.sieges_disponibles = sieges_disponibles if sieges_disponibles is not None else nb_sieges\n",
    "\n",
    "    def verifier_disponibilite(self):\n",
    "        return self.sieges_disponibles > 0\n",
    "\n",
    "    def reserver_siege(self):\n",
    "        if self.verifier_disponibilite():\n",
    "            self.sieges_disponibles -= 1\n",
    "            return \"Réservation réussie.\"\n",
    "        else:\n",
    "            return \"Aucun siège disponible pour ce vol.\"\n",
    "\n",
    "    def annuler_reservation(self):\n",
    "        if self.sieges_disponibles < self.nb_sieges:\n",
    "            self.sieges_disponibles += 1\n",
    "            return \"Annulation réussie.\"\n",
    "        else:\n",
    "            return \"Aucune réservation à annuler pour ce vol.\"\n",
    "\n",
    "    def to_dict(self):\n",
    "        \"\"\"Convertit les attributs de l'objet en dictionnaire pour faciliter la sauvegarde en CSV.\"\"\"\n",
    "        return {\n",
    "            \"numero_vol\": self.numero_vol,\n",
    "            \"depart\": self.depart,\n",
    "            \"destination\": self.destination,\n",
    "            \"nb_sieges\": self.nb_sieges,\n",
    "            \"sieges_disponibles\": self.sieges_disponibles\n",
    "        }\n",
    "\n",
    "    @classmethod\n",
    "    def from_dict(cls, data):\n",
    "        \"\"\"Crée un objet Vol à partir d'un dictionnaire.\"\"\"\n",
    "        return cls(\n",
    "            numero_vol=data[\"numero_vol\"],\n",
    "            depart=data[\"depart\"],\n",
    "            destination=data[\"destination\"],\n",
    "            nb_sieges=int(data[\"nb_sieges\"]),\n",
    "            sieges_disponibles=int(data[\"sieges_disponibles\"])\n",
    "        )\n",
    "\n",
    "class GestionVols:\n",
    "    def __init__(self, fichier_csv):\n",
    "        self.fichier_csv = fichier_csv\n",
    "        self.vols = self.charger_vols()\n",
    "\n",
    "    def charger_vols(self):\n",
    "        vols = []\n",
    "        try:\n",
    "            with open(self.fichier_csv, mode='r', newline='') as csvfile:\n",
    "                reader = csv.DictReader(csvfile)\n",
    "                for row in reader:\n",
    "                    vols.append(Vol.from_dict(row))\n",
    "        except FileNotFoundError:\n",
    "            print(f\"Fichier {self.fichier_csv} non trouvé. Création d'un nouveau fichier.\")\n",
    "        return vols\n",
    "\n",
    "    def sauvegarder_vols(self):\n",
    "        with open(self.fichier_csv, mode='w', newline='') as csvfile:\n",
    "            fieldnames = [\"numero_vol\", \"depart\", \"destination\", \"nb_sieges\", \"sieges_disponibles\"]\n",
    "            writer = csv.DictWriter(csvfile, fieldnames=fieldnames)\n",
    "            writer.writeheader()\n",
    "            for vol in self.vols:\n",
    "                writer.writerow(vol.to_dict())\n",
    "\n",
    "    def ajouter_vol(self, vol):\n",
    "        self.vols.append(vol)\n",
    "        self.sauvegarder_vols()\n",
    "\n",
    "    def afficher_vols(self):\n",
    "        for vol in self.vols:\n",
    "            print(vol)\n",
    "\n",
    "# Exemples de test de la gestion de la persistance\n",
    "gestion_vols = GestionVols(\"vols.csv\")\n",
    "\n",
    "# Création de nouveaux vols\n",
    "vol3 = Vol(\"AF125\", \"Paris\", \"Berlin\", 100)\n",
    "vol4 = Vol(\"AF126\", \"Paris\", \"Tokyo\", 200)\n",
    "\n",
    "# Ajout des vols et sauvegarde\n",
    "gestion_vols.ajouter_vol(vol3)\n",
    "gestion_vols.ajouter_vol(vol4)\n",
    "\n",
    "# Affichage des vols pour vérifier leur chargement\n",
    "gestion_vols.afficher_vols()\n"
   ]
  },
  {
   "cell_type": "markdown",
   "metadata": {},
   "source": [
    "Explication du code\n",
    "Classe Vol : mise à jour avec les méthodes to_dictet from_dictpour convertir les objets en dictionnaires, facilitant la sauvegarde et le chargement via CSV.\n",
    "Classe GestionVols : gérer l'ajout, le chargement et la sauvegarde des vols.\n",
    "charger_vols: lit les vols depuis le fichier CSV. Si le fichier n'existe pas, un message s'affiche.\n",
    "sauvegarder_vols: écrit les vols actuels dans le fichier CSV.\n",
    "ajouter_vol: ajoute un vol et met à jour le fichier CSV.\n",
    "afficher_vols: affiche tous les vols chargés pour vérification."
   ]
  }
 ],
 "metadata": {
  "kernelspec": {
   "display_name": "Python 3",
   "language": "python",
   "name": "python3"
  },
  "language_info": {
   "codemirror_mode": {
    "name": "ipython",
    "version": 3
   },
   "file_extension": ".py",
   "mimetype": "text/x-python",
   "name": "python",
   "nbconvert_exporter": "python",
   "pygments_lexer": "ipython3",
   "version": "3.12.7"
  }
 },
 "nbformat": 4,
 "nbformat_minor": 2
}
